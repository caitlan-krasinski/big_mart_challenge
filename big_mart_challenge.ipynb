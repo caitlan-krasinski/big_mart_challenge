{
 "cells": [
  {
   "cell_type": "code",
   "execution_count": 107,
   "metadata": {},
   "outputs": [],
   "source": [
    "import pandas as pd\n",
    "import numpy as np\n",
    "import sklearn\n",
    "from sklearn.model_selection import train_test_split\n",
    "from sklearn.metrics import accuracy_score\n",
    "import matplotlib.pyplot as plt\n",
    "%matplotlib inline"
   ]
  },
  {
   "cell_type": "markdown",
   "metadata": {},
   "source": [
    "<h3>Data Preprocessing - Training</h3>"
   ]
  },
  {
   "cell_type": "code",
   "execution_count": 272,
   "metadata": {},
   "outputs": [],
   "source": [
    "data_raw = pd.read_csv('https://datahack-prod.s3.amazonaws.com/train_file/train_XnW6LSF.csv')"
   ]
  },
  {
   "cell_type": "code",
   "execution_count": 273,
   "metadata": {},
   "outputs": [],
   "source": [
    "data = data_raw"
   ]
  },
  {
   "cell_type": "code",
   "execution_count": 274,
   "metadata": {},
   "outputs": [
    {
     "data": {
      "text/html": [
       "<div>\n",
       "<style scoped>\n",
       "    .dataframe tbody tr th:only-of-type {\n",
       "        vertical-align: middle;\n",
       "    }\n",
       "\n",
       "    .dataframe tbody tr th {\n",
       "        vertical-align: top;\n",
       "    }\n",
       "\n",
       "    .dataframe thead th {\n",
       "        text-align: right;\n",
       "    }\n",
       "</style>\n",
       "<table border=\"1\" class=\"dataframe\">\n",
       "  <thead>\n",
       "    <tr style=\"text-align: right;\">\n",
       "      <th></th>\n",
       "      <th>Item_Identifier</th>\n",
       "      <th>Item_Weight</th>\n",
       "      <th>Item_Fat_Content</th>\n",
       "      <th>Item_Visibility</th>\n",
       "      <th>Item_Type</th>\n",
       "      <th>Item_MRP</th>\n",
       "      <th>Outlet_Identifier</th>\n",
       "      <th>Outlet_Establishment_Year</th>\n",
       "      <th>Outlet_Size</th>\n",
       "      <th>Outlet_Location_Type</th>\n",
       "      <th>Outlet_Type</th>\n",
       "      <th>Item_Outlet_Sales</th>\n",
       "    </tr>\n",
       "  </thead>\n",
       "  <tbody>\n",
       "    <tr>\n",
       "      <th>0</th>\n",
       "      <td>FDA15</td>\n",
       "      <td>9.30</td>\n",
       "      <td>Low Fat</td>\n",
       "      <td>0.016047</td>\n",
       "      <td>Dairy</td>\n",
       "      <td>249.8092</td>\n",
       "      <td>OUT049</td>\n",
       "      <td>1999</td>\n",
       "      <td>Medium</td>\n",
       "      <td>Tier 1</td>\n",
       "      <td>Supermarket Type1</td>\n",
       "      <td>3735.1380</td>\n",
       "    </tr>\n",
       "    <tr>\n",
       "      <th>1</th>\n",
       "      <td>DRC01</td>\n",
       "      <td>5.92</td>\n",
       "      <td>Regular</td>\n",
       "      <td>0.019278</td>\n",
       "      <td>Soft Drinks</td>\n",
       "      <td>48.2692</td>\n",
       "      <td>OUT018</td>\n",
       "      <td>2009</td>\n",
       "      <td>Medium</td>\n",
       "      <td>Tier 3</td>\n",
       "      <td>Supermarket Type2</td>\n",
       "      <td>443.4228</td>\n",
       "    </tr>\n",
       "    <tr>\n",
       "      <th>2</th>\n",
       "      <td>FDN15</td>\n",
       "      <td>17.50</td>\n",
       "      <td>Low Fat</td>\n",
       "      <td>0.016760</td>\n",
       "      <td>Meat</td>\n",
       "      <td>141.6180</td>\n",
       "      <td>OUT049</td>\n",
       "      <td>1999</td>\n",
       "      <td>Medium</td>\n",
       "      <td>Tier 1</td>\n",
       "      <td>Supermarket Type1</td>\n",
       "      <td>2097.2700</td>\n",
       "    </tr>\n",
       "    <tr>\n",
       "      <th>3</th>\n",
       "      <td>FDX07</td>\n",
       "      <td>19.20</td>\n",
       "      <td>Regular</td>\n",
       "      <td>0.000000</td>\n",
       "      <td>Fruits and Vegetables</td>\n",
       "      <td>182.0950</td>\n",
       "      <td>OUT010</td>\n",
       "      <td>1998</td>\n",
       "      <td>NaN</td>\n",
       "      <td>Tier 3</td>\n",
       "      <td>Grocery Store</td>\n",
       "      <td>732.3800</td>\n",
       "    </tr>\n",
       "    <tr>\n",
       "      <th>4</th>\n",
       "      <td>NCD19</td>\n",
       "      <td>8.93</td>\n",
       "      <td>Low Fat</td>\n",
       "      <td>0.000000</td>\n",
       "      <td>Household</td>\n",
       "      <td>53.8614</td>\n",
       "      <td>OUT013</td>\n",
       "      <td>1987</td>\n",
       "      <td>High</td>\n",
       "      <td>Tier 3</td>\n",
       "      <td>Supermarket Type1</td>\n",
       "      <td>994.7052</td>\n",
       "    </tr>\n",
       "  </tbody>\n",
       "</table>\n",
       "</div>"
      ],
      "text/plain": [
       "  Item_Identifier  Item_Weight Item_Fat_Content  Item_Visibility  \\\n",
       "0           FDA15         9.30          Low Fat         0.016047   \n",
       "1           DRC01         5.92          Regular         0.019278   \n",
       "2           FDN15        17.50          Low Fat         0.016760   \n",
       "3           FDX07        19.20          Regular         0.000000   \n",
       "4           NCD19         8.93          Low Fat         0.000000   \n",
       "\n",
       "               Item_Type  Item_MRP Outlet_Identifier  \\\n",
       "0                  Dairy  249.8092            OUT049   \n",
       "1            Soft Drinks   48.2692            OUT018   \n",
       "2                   Meat  141.6180            OUT049   \n",
       "3  Fruits and Vegetables  182.0950            OUT010   \n",
       "4              Household   53.8614            OUT013   \n",
       "\n",
       "   Outlet_Establishment_Year Outlet_Size Outlet_Location_Type  \\\n",
       "0                       1999      Medium               Tier 1   \n",
       "1                       2009      Medium               Tier 3   \n",
       "2                       1999      Medium               Tier 1   \n",
       "3                       1998         NaN               Tier 3   \n",
       "4                       1987        High               Tier 3   \n",
       "\n",
       "         Outlet_Type  Item_Outlet_Sales  \n",
       "0  Supermarket Type1          3735.1380  \n",
       "1  Supermarket Type2           443.4228  \n",
       "2  Supermarket Type1          2097.2700  \n",
       "3      Grocery Store           732.3800  \n",
       "4  Supermarket Type1           994.7052  "
      ]
     },
     "execution_count": 274,
     "metadata": {},
     "output_type": "execute_result"
    }
   ],
   "source": [
    "data.head()"
   ]
  },
  {
   "cell_type": "code",
   "execution_count": 275,
   "metadata": {},
   "outputs": [
    {
     "data": {
      "text/plain": [
       "Low Fat    5089\n",
       "Regular    2889\n",
       "LF          316\n",
       "reg         117\n",
       "low fat     112\n",
       "Name: Item_Fat_Content, dtype: int64"
      ]
     },
     "execution_count": 275,
     "metadata": {},
     "output_type": "execute_result"
    }
   ],
   "source": [
    "data.Item_Fat_Content.value_counts()"
   ]
  },
  {
   "cell_type": "code",
   "execution_count": 276,
   "metadata": {},
   "outputs": [
    {
     "data": {
      "text/plain": [
       "(8523, 12)"
      ]
     },
     "execution_count": 276,
     "metadata": {},
     "output_type": "execute_result"
    }
   ],
   "source": [
    "data.shape"
   ]
  },
  {
   "cell_type": "code",
   "execution_count": 277,
   "metadata": {},
   "outputs": [
    {
     "data": {
      "text/plain": [
       "Item_Identifier                 0\n",
       "Item_Weight                  1463\n",
       "Item_Fat_Content                0\n",
       "Item_Visibility                 0\n",
       "Item_Type                       0\n",
       "Item_MRP                        0\n",
       "Outlet_Identifier               0\n",
       "Outlet_Establishment_Year       0\n",
       "Outlet_Size                  2410\n",
       "Outlet_Location_Type            0\n",
       "Outlet_Type                     0\n",
       "Item_Outlet_Sales               0\n",
       "dtype: int64"
      ]
     },
     "execution_count": 277,
     "metadata": {},
     "output_type": "execute_result"
    }
   ],
   "source": [
    "data.isnull().sum()"
   ]
  },
  {
   "cell_type": "code",
   "execution_count": 278,
   "metadata": {},
   "outputs": [
    {
     "data": {
      "text/plain": [
       "Item_Identifier               object\n",
       "Item_Weight                  float64\n",
       "Item_Fat_Content              object\n",
       "Item_Visibility              float64\n",
       "Item_Type                     object\n",
       "Item_MRP                     float64\n",
       "Outlet_Identifier             object\n",
       "Outlet_Establishment_Year      int64\n",
       "Outlet_Size                   object\n",
       "Outlet_Location_Type          object\n",
       "Outlet_Type                   object\n",
       "Item_Outlet_Sales            float64\n",
       "dtype: object"
      ]
     },
     "execution_count": 278,
     "metadata": {},
     "output_type": "execute_result"
    }
   ],
   "source": [
    "data.dtypes"
   ]
  },
  {
   "cell_type": "code",
   "execution_count": 279,
   "metadata": {},
   "outputs": [],
   "source": [
    "data['Item_Weight'].fillna(data['Item_Weight'].mean(), inplace=True)\n",
    "data['Outlet_Size'].fillna(data['Outlet_Size'].mode()[0], inplace=True)"
   ]
  },
  {
   "cell_type": "code",
   "execution_count": 280,
   "metadata": {},
   "outputs": [],
   "source": [
    "data['Item_Fat_Content'] = data['Item_Fat_Content'].map({'Low Fat': 0, 'LF':0, 'low fat':0, 'Regular': 1, 'reg':1})\n",
    "\n",
    "data['Item_Type'] = data['Item_Type'].map({'Fruits and Vegetables': 0, 'Snack Foods': 1, 'Household': 2, \n",
    "                                          'Frozen Foods': 3, 'Dairy': 4, 'Canned': 5, 'Baking Goods': 6, \n",
    "                                           'Health and Hygiene': 7, 'Soft Drinks': 8, 'Meat': 9,\n",
    "                                           'Breads': 10, 'Hard Drinks': 11, 'Others': 12, 'Starchy Foods': 13,\n",
    "                                          'Breakfast': 14, 'Seafood': 15})\n",
    "\n",
    "data['Outlet_Size'] = data['Outlet_Size'].map({'Small':0, 'Medium':1, 'High':2})\n",
    "data['Outlet_Location_Type'] = data['Outlet_Location_Type'].map({'Tier 1':0, 'Tier 2':1, 'Tier 3':2})\n",
    "data['Outlet_Type'] = data['Outlet_Type'].map({'Supermarket Type1':0, 'Supermarket Type2':1, \n",
    "                                               'Supermarket Type3':2, 'Grocery Store':3})"
   ]
  },
  {
   "cell_type": "code",
   "execution_count": 281,
   "metadata": {},
   "outputs": [
    {
     "data": {
      "text/plain": [
       "Item_Identifier              0\n",
       "Item_Weight                  0\n",
       "Item_Fat_Content             0\n",
       "Item_Visibility              0\n",
       "Item_Type                    0\n",
       "Item_MRP                     0\n",
       "Outlet_Identifier            0\n",
       "Outlet_Establishment_Year    0\n",
       "Outlet_Size                  0\n",
       "Outlet_Location_Type         0\n",
       "Outlet_Type                  0\n",
       "Item_Outlet_Sales            0\n",
       "dtype: int64"
      ]
     },
     "execution_count": 281,
     "metadata": {},
     "output_type": "execute_result"
    }
   ],
   "source": [
    "data.isnull().sum()"
   ]
  },
  {
   "cell_type": "code",
   "execution_count": 282,
   "metadata": {},
   "outputs": [
    {
     "data": {
      "text/html": [
       "<div>\n",
       "<style scoped>\n",
       "    .dataframe tbody tr th:only-of-type {\n",
       "        vertical-align: middle;\n",
       "    }\n",
       "\n",
       "    .dataframe tbody tr th {\n",
       "        vertical-align: top;\n",
       "    }\n",
       "\n",
       "    .dataframe thead th {\n",
       "        text-align: right;\n",
       "    }\n",
       "</style>\n",
       "<table border=\"1\" class=\"dataframe\">\n",
       "  <thead>\n",
       "    <tr style=\"text-align: right;\">\n",
       "      <th></th>\n",
       "      <th>Item_Identifier</th>\n",
       "      <th>Item_Weight</th>\n",
       "      <th>Item_Fat_Content</th>\n",
       "      <th>Item_Visibility</th>\n",
       "      <th>Item_Type</th>\n",
       "      <th>Item_MRP</th>\n",
       "      <th>Outlet_Identifier</th>\n",
       "      <th>Outlet_Establishment_Year</th>\n",
       "      <th>Outlet_Size</th>\n",
       "      <th>Outlet_Location_Type</th>\n",
       "      <th>Outlet_Type</th>\n",
       "      <th>Item_Outlet_Sales</th>\n",
       "    </tr>\n",
       "  </thead>\n",
       "  <tbody>\n",
       "    <tr>\n",
       "      <th>0</th>\n",
       "      <td>FDA15</td>\n",
       "      <td>9.30</td>\n",
       "      <td>0</td>\n",
       "      <td>0.016047</td>\n",
       "      <td>4</td>\n",
       "      <td>249.8092</td>\n",
       "      <td>OUT049</td>\n",
       "      <td>1999</td>\n",
       "      <td>1</td>\n",
       "      <td>0</td>\n",
       "      <td>0</td>\n",
       "      <td>3735.1380</td>\n",
       "    </tr>\n",
       "    <tr>\n",
       "      <th>1</th>\n",
       "      <td>DRC01</td>\n",
       "      <td>5.92</td>\n",
       "      <td>1</td>\n",
       "      <td>0.019278</td>\n",
       "      <td>8</td>\n",
       "      <td>48.2692</td>\n",
       "      <td>OUT018</td>\n",
       "      <td>2009</td>\n",
       "      <td>1</td>\n",
       "      <td>2</td>\n",
       "      <td>1</td>\n",
       "      <td>443.4228</td>\n",
       "    </tr>\n",
       "    <tr>\n",
       "      <th>2</th>\n",
       "      <td>FDN15</td>\n",
       "      <td>17.50</td>\n",
       "      <td>0</td>\n",
       "      <td>0.016760</td>\n",
       "      <td>9</td>\n",
       "      <td>141.6180</td>\n",
       "      <td>OUT049</td>\n",
       "      <td>1999</td>\n",
       "      <td>1</td>\n",
       "      <td>0</td>\n",
       "      <td>0</td>\n",
       "      <td>2097.2700</td>\n",
       "    </tr>\n",
       "    <tr>\n",
       "      <th>3</th>\n",
       "      <td>FDX07</td>\n",
       "      <td>19.20</td>\n",
       "      <td>1</td>\n",
       "      <td>0.000000</td>\n",
       "      <td>0</td>\n",
       "      <td>182.0950</td>\n",
       "      <td>OUT010</td>\n",
       "      <td>1998</td>\n",
       "      <td>1</td>\n",
       "      <td>2</td>\n",
       "      <td>3</td>\n",
       "      <td>732.3800</td>\n",
       "    </tr>\n",
       "    <tr>\n",
       "      <th>4</th>\n",
       "      <td>NCD19</td>\n",
       "      <td>8.93</td>\n",
       "      <td>0</td>\n",
       "      <td>0.000000</td>\n",
       "      <td>2</td>\n",
       "      <td>53.8614</td>\n",
       "      <td>OUT013</td>\n",
       "      <td>1987</td>\n",
       "      <td>2</td>\n",
       "      <td>2</td>\n",
       "      <td>0</td>\n",
       "      <td>994.7052</td>\n",
       "    </tr>\n",
       "  </tbody>\n",
       "</table>\n",
       "</div>"
      ],
      "text/plain": [
       "  Item_Identifier  Item_Weight  Item_Fat_Content  Item_Visibility  Item_Type  \\\n",
       "0           FDA15         9.30                 0         0.016047          4   \n",
       "1           DRC01         5.92                 1         0.019278          8   \n",
       "2           FDN15        17.50                 0         0.016760          9   \n",
       "3           FDX07        19.20                 1         0.000000          0   \n",
       "4           NCD19         8.93                 0         0.000000          2   \n",
       "\n",
       "   Item_MRP Outlet_Identifier  Outlet_Establishment_Year  Outlet_Size  \\\n",
       "0  249.8092            OUT049                       1999            1   \n",
       "1   48.2692            OUT018                       2009            1   \n",
       "2  141.6180            OUT049                       1999            1   \n",
       "3  182.0950            OUT010                       1998            1   \n",
       "4   53.8614            OUT013                       1987            2   \n",
       "\n",
       "   Outlet_Location_Type  Outlet_Type  Item_Outlet_Sales  \n",
       "0                     0            0          3735.1380  \n",
       "1                     2            1           443.4228  \n",
       "2                     0            0          2097.2700  \n",
       "3                     2            3           732.3800  \n",
       "4                     2            0           994.7052  "
      ]
     },
     "execution_count": 282,
     "metadata": {},
     "output_type": "execute_result"
    }
   ],
   "source": [
    "data.head()"
   ]
  },
  {
   "cell_type": "code",
   "execution_count": 283,
   "metadata": {},
   "outputs": [],
   "source": [
    "from sklearn import preprocessing\n",
    "\n",
    "IV = np.array(data['Item_Visibility'])\n",
    "MRP = np.array(data['Item_MRP'])\n",
    "IW = np.array(data['Item_Weight'])\n",
    "year = np.array(data['Outlet_Establishment_Year'])\n",
    "#sales = np.array(data['Item_Outlet_Sales'])\n",
    "fat = np.array(data['Item_Fat_Content'])\n",
    "IT = np.array(data['Item_Type'])\n",
    "size = np.array(data['Outlet_Size'])\n",
    "OLT = np.array(data['Outlet_Location_Type'])\n",
    "OT = np.array(data['Outlet_Type'])\n",
    "\n",
    "norm_IV = preprocessing.normalize([IV])\n",
    "norm_IMRP = preprocessing.normalize([MRP])\n",
    "norm_IW = preprocessing.normalize([IW])\n",
    "norm_year = preprocessing.normalize([year])\n",
    "#norm_sales = preprocessing.normalize([sales])\n",
    "norm_fat = preprocessing.normalize([fat])\n",
    "norm_IT = preprocessing.normalize([IT])\n",
    "norm_size = preprocessing.normalize([size])\n",
    "norm_OLT = preprocessing.normalize([OLT])\n",
    "norm_OT = preprocessing.normalize([OT])"
   ]
  },
  {
   "cell_type": "code",
   "execution_count": 284,
   "metadata": {},
   "outputs": [
    {
     "data": {
      "text/html": [
       "<div>\n",
       "<style scoped>\n",
       "    .dataframe tbody tr th:only-of-type {\n",
       "        vertical-align: middle;\n",
       "    }\n",
       "\n",
       "    .dataframe tbody tr th {\n",
       "        vertical-align: top;\n",
       "    }\n",
       "\n",
       "    .dataframe thead th {\n",
       "        text-align: right;\n",
       "    }\n",
       "</style>\n",
       "<table border=\"1\" class=\"dataframe\">\n",
       "  <thead>\n",
       "    <tr style=\"text-align: right;\">\n",
       "      <th></th>\n",
       "      <th>Item_Identifier</th>\n",
       "      <th>Item_Weight</th>\n",
       "      <th>Item_Fat_Content</th>\n",
       "      <th>Item_Visibility</th>\n",
       "      <th>Item_Type</th>\n",
       "      <th>Item_MRP</th>\n",
       "      <th>Outlet_Identifier</th>\n",
       "      <th>Outlet_Establishment_Year</th>\n",
       "      <th>Outlet_Size</th>\n",
       "      <th>Outlet_Location_Type</th>\n",
       "      <th>Outlet_Type</th>\n",
       "      <th>Item_Outlet_Sales</th>\n",
       "    </tr>\n",
       "  </thead>\n",
       "  <tbody>\n",
       "    <tr>\n",
       "      <th>0</th>\n",
       "      <td>FDA15</td>\n",
       "      <td>0.007443</td>\n",
       "      <td>0.000000</td>\n",
       "      <td>0.002072</td>\n",
       "      <td>0.007457</td>\n",
       "      <td>0.017556</td>\n",
       "      <td>OUT049</td>\n",
       "      <td>0.010838</td>\n",
       "      <td>0.010582</td>\n",
       "      <td>0.000000</td>\n",
       "      <td>0.000000</td>\n",
       "      <td>3735.1380</td>\n",
       "    </tr>\n",
       "    <tr>\n",
       "      <th>1</th>\n",
       "      <td>DRC01</td>\n",
       "      <td>0.004738</td>\n",
       "      <td>0.018239</td>\n",
       "      <td>0.002490</td>\n",
       "      <td>0.014915</td>\n",
       "      <td>0.003392</td>\n",
       "      <td>OUT018</td>\n",
       "      <td>0.010892</td>\n",
       "      <td>0.010582</td>\n",
       "      <td>0.015721</td>\n",
       "      <td>0.008329</td>\n",
       "      <td>443.4228</td>\n",
       "    </tr>\n",
       "    <tr>\n",
       "      <th>2</th>\n",
       "      <td>FDN15</td>\n",
       "      <td>0.014006</td>\n",
       "      <td>0.000000</td>\n",
       "      <td>0.002164</td>\n",
       "      <td>0.016779</td>\n",
       "      <td>0.009952</td>\n",
       "      <td>OUT049</td>\n",
       "      <td>0.010838</td>\n",
       "      <td>0.010582</td>\n",
       "      <td>0.000000</td>\n",
       "      <td>0.000000</td>\n",
       "      <td>2097.2700</td>\n",
       "    </tr>\n",
       "    <tr>\n",
       "      <th>3</th>\n",
       "      <td>FDX07</td>\n",
       "      <td>0.015366</td>\n",
       "      <td>0.018239</td>\n",
       "      <td>0.000000</td>\n",
       "      <td>0.000000</td>\n",
       "      <td>0.012797</td>\n",
       "      <td>OUT010</td>\n",
       "      <td>0.010833</td>\n",
       "      <td>0.010582</td>\n",
       "      <td>0.015721</td>\n",
       "      <td>0.024987</td>\n",
       "      <td>732.3800</td>\n",
       "    </tr>\n",
       "    <tr>\n",
       "      <th>4</th>\n",
       "      <td>NCD19</td>\n",
       "      <td>0.007147</td>\n",
       "      <td>0.000000</td>\n",
       "      <td>0.000000</td>\n",
       "      <td>0.003729</td>\n",
       "      <td>0.003785</td>\n",
       "      <td>OUT013</td>\n",
       "      <td>0.010773</td>\n",
       "      <td>0.021163</td>\n",
       "      <td>0.015721</td>\n",
       "      <td>0.000000</td>\n",
       "      <td>994.7052</td>\n",
       "    </tr>\n",
       "  </tbody>\n",
       "</table>\n",
       "</div>"
      ],
      "text/plain": [
       "  Item_Identifier  Item_Weight  Item_Fat_Content  Item_Visibility  Item_Type  \\\n",
       "0           FDA15     0.007443          0.000000         0.002072   0.007457   \n",
       "1           DRC01     0.004738          0.018239         0.002490   0.014915   \n",
       "2           FDN15     0.014006          0.000000         0.002164   0.016779   \n",
       "3           FDX07     0.015366          0.018239         0.000000   0.000000   \n",
       "4           NCD19     0.007147          0.000000         0.000000   0.003729   \n",
       "\n",
       "   Item_MRP Outlet_Identifier  Outlet_Establishment_Year  Outlet_Size  \\\n",
       "0  0.017556            OUT049                   0.010838     0.010582   \n",
       "1  0.003392            OUT018                   0.010892     0.010582   \n",
       "2  0.009952            OUT049                   0.010838     0.010582   \n",
       "3  0.012797            OUT010                   0.010833     0.010582   \n",
       "4  0.003785            OUT013                   0.010773     0.021163   \n",
       "\n",
       "   Outlet_Location_Type  Outlet_Type  Item_Outlet_Sales  \n",
       "0              0.000000     0.000000          3735.1380  \n",
       "1              0.015721     0.008329           443.4228  \n",
       "2              0.000000     0.000000          2097.2700  \n",
       "3              0.015721     0.024987           732.3800  \n",
       "4              0.015721     0.000000           994.7052  "
      ]
     },
     "execution_count": 284,
     "metadata": {},
     "output_type": "execute_result"
    }
   ],
   "source": [
    "#data['Item_Visibility'] = scaled_data['Item_Visibility']\n",
    "#data['Item_MRP'] = scaled_data['Item_MRP']\n",
    "\n",
    "data['Item_Visibility'] = norm_IV[0]\n",
    "data['Item_MRP'] = norm_IMRP[0]\n",
    "data['Item_Weight'] = norm_IW[0]\n",
    "data['Outlet_Establishment_Year'] = norm_year[0]\n",
    "#data['Item_Outlet_Sales'] = norm_sales[0]\n",
    "data['Item_Fat_Content'] = norm_fat[0]\n",
    "data['Item_Type'] = norm_IT[0]\n",
    "data['Outlet_Size'] = norm_size[0]\n",
    "data['Outlet_Location_Type'] = norm_OLT[0]\n",
    "data['Outlet_Type'] = norm_OT[0]\n",
    "data.head()"
   ]
  },
  {
   "cell_type": "markdown",
   "metadata": {},
   "source": [
    "<h3>Data Preprocessing - Test</h3>"
   ]
  },
  {
   "cell_type": "code",
   "execution_count": 285,
   "metadata": {},
   "outputs": [],
   "source": [
    "data_test = pd.read_csv('https://datahack-prod.s3.amazonaws.com/test_file/test_FewQE9B.csv')"
   ]
  },
  {
   "cell_type": "code",
   "execution_count": 286,
   "metadata": {},
   "outputs": [
    {
     "data": {
      "text/plain": [
       "Item_Identifier                 0\n",
       "Item_Weight                   976\n",
       "Item_Fat_Content                0\n",
       "Item_Visibility                 0\n",
       "Item_Type                       0\n",
       "Item_MRP                        0\n",
       "Outlet_Identifier               0\n",
       "Outlet_Establishment_Year       0\n",
       "Outlet_Size                  1606\n",
       "Outlet_Location_Type            0\n",
       "Outlet_Type                     0\n",
       "dtype: int64"
      ]
     },
     "execution_count": 286,
     "metadata": {},
     "output_type": "execute_result"
    }
   ],
   "source": [
    "data_test.isnull().sum()"
   ]
  },
  {
   "cell_type": "code",
   "execution_count": 287,
   "metadata": {},
   "outputs": [],
   "source": [
    "data_test['Item_Fat_Content'].fillna(data_test['Item_Fat_Content'].mode()[0], inplace=True)\n",
    "data_test['Item_Weight'].fillna(data_test['Item_Weight'].mean(), inplace=True)\n",
    "data_test['Outlet_Size'].fillna(data_test['Outlet_Size'].mode()[0], inplace=True)"
   ]
  },
  {
   "cell_type": "code",
   "execution_count": 288,
   "metadata": {},
   "outputs": [],
   "source": [
    "data_test['Item_Fat_Content'] = data_test['Item_Fat_Content'].map({'Low Fat': 0, 'LF':0, 'low fat':0, 'Regular': 1, 'reg':1})\n",
    "\n",
    "data_test['Item_Type'] = data_test['Item_Type'].map({'Fruits and Vegetables': 0, 'Snack Foods': 1, 'Household': 2, \n",
    "                                          'Frozen Foods': 3, 'Dairy': 4, 'Canned': 5, 'Baking Goods': 6, \n",
    "                                           'Health and Hygiene': 7, 'Soft Drinks': 8, 'Meat': 9,\n",
    "                                           'Breads': 10, 'Hard Drinks': 11, 'Others': 12, 'Starchy Foods': 13,\n",
    "                                          'Breakfast': 14, 'Seafood': 15})\n",
    "\n",
    "data_test['Outlet_Size'] = data_test['Outlet_Size'].map({'Small':0, 'Medium':1, 'High':2})\n",
    "data_test['Outlet_Location_Type'] = data_test['Outlet_Location_Type'].map({'Tier 1':0, 'Tier 2':1, 'Tier 3':2})\n",
    "data_test['Outlet_Type'] = data_test['Outlet_Type'].map({'Supermarket Type1':0, 'Supermarket Type2':1, \n",
    "                                               'Supermarket Type3':2, 'Grocery Store':3})"
   ]
  },
  {
   "cell_type": "code",
   "execution_count": 289,
   "metadata": {},
   "outputs": [],
   "source": [
    "from sklearn import preprocessing\n",
    "\n",
    "IV_test = np.array(data_test['Item_Visibility'])\n",
    "MRP_test = np.array(data_test['Item_MRP'])\n",
    "IW_test = np.array(data_test['Item_Weight'])\n",
    "year_test = np.array(data_test['Outlet_Establishment_Year'])\n",
    "fat_test = np.array(data_test['Item_Fat_Content'])\n",
    "IT_test = np.array(data_test['Item_Type'])\n",
    "size_test = np.array(data_test['Outlet_Size'])\n",
    "OLT_test = np.array(data_test['Outlet_Location_Type'])\n",
    "OT_test = np.array(data_test['Outlet_Type'])\n",
    "\n",
    "norm_IV_test = preprocessing.normalize([IV_test])\n",
    "norm_IMRP_test = preprocessing.normalize([MRP_test])\n",
    "norm_IW_test = preprocessing.normalize([IW_test])\n",
    "norm_year_test = preprocessing.normalize([year_test])\n",
    "norm_fat_test = preprocessing.normalize([fat_test])\n",
    "norm_IT_test = preprocessing.normalize([IT_test])\n",
    "norm_size_test = preprocessing.normalize([size_test])\n",
    "norm_OLT_test = preprocessing.normalize([OLT_test])\n",
    "norm_OT_test = preprocessing.normalize([OT_test])"
   ]
  },
  {
   "cell_type": "code",
   "execution_count": 290,
   "metadata": {},
   "outputs": [
    {
     "data": {
      "text/html": [
       "<div>\n",
       "<style scoped>\n",
       "    .dataframe tbody tr th:only-of-type {\n",
       "        vertical-align: middle;\n",
       "    }\n",
       "\n",
       "    .dataframe tbody tr th {\n",
       "        vertical-align: top;\n",
       "    }\n",
       "\n",
       "    .dataframe thead th {\n",
       "        text-align: right;\n",
       "    }\n",
       "</style>\n",
       "<table border=\"1\" class=\"dataframe\">\n",
       "  <thead>\n",
       "    <tr style=\"text-align: right;\">\n",
       "      <th></th>\n",
       "      <th>Item_Identifier</th>\n",
       "      <th>Item_Weight</th>\n",
       "      <th>Item_Fat_Content</th>\n",
       "      <th>Item_Visibility</th>\n",
       "      <th>Item_Type</th>\n",
       "      <th>Item_MRP</th>\n",
       "      <th>Outlet_Identifier</th>\n",
       "      <th>Outlet_Establishment_Year</th>\n",
       "      <th>Outlet_Size</th>\n",
       "      <th>Outlet_Location_Type</th>\n",
       "      <th>Outlet_Type</th>\n",
       "    </tr>\n",
       "  </thead>\n",
       "  <tbody>\n",
       "    <tr>\n",
       "      <th>0</th>\n",
       "      <td>FDW58</td>\n",
       "      <td>0.020566</td>\n",
       "      <td>0.000000</td>\n",
       "      <td>0.001205</td>\n",
       "      <td>0.002273</td>\n",
       "      <td>0.009294</td>\n",
       "      <td>OUT049</td>\n",
       "      <td>0.013275</td>\n",
       "      <td>0.012962</td>\n",
       "      <td>0.000000</td>\n",
       "      <td>0.0000</td>\n",
       "    </tr>\n",
       "    <tr>\n",
       "      <th>1</th>\n",
       "      <td>FDW14</td>\n",
       "      <td>0.008226</td>\n",
       "      <td>0.022288</td>\n",
       "      <td>0.006120</td>\n",
       "      <td>0.009094</td>\n",
       "      <td>0.007524</td>\n",
       "      <td>OUT017</td>\n",
       "      <td>0.013328</td>\n",
       "      <td>0.012962</td>\n",
       "      <td>0.009628</td>\n",
       "      <td>0.0000</td>\n",
       "    </tr>\n",
       "    <tr>\n",
       "      <th>2</th>\n",
       "      <td>NCN55</td>\n",
       "      <td>0.014470</td>\n",
       "      <td>0.000000</td>\n",
       "      <td>0.015858</td>\n",
       "      <td>0.027281</td>\n",
       "      <td>0.020831</td>\n",
       "      <td>OUT010</td>\n",
       "      <td>0.013268</td>\n",
       "      <td>0.012962</td>\n",
       "      <td>0.019256</td>\n",
       "      <td>0.0306</td>\n",
       "    </tr>\n",
       "    <tr>\n",
       "      <th>3</th>\n",
       "      <td>FDQ58</td>\n",
       "      <td>0.007250</td>\n",
       "      <td>0.000000</td>\n",
       "      <td>0.002451</td>\n",
       "      <td>0.002273</td>\n",
       "      <td>0.013359</td>\n",
       "      <td>OUT017</td>\n",
       "      <td>0.013328</td>\n",
       "      <td>0.012962</td>\n",
       "      <td>0.009628</td>\n",
       "      <td>0.0000</td>\n",
       "    </tr>\n",
       "    <tr>\n",
       "      <th>4</th>\n",
       "      <td>FDY38</td>\n",
       "      <td>0.012583</td>\n",
       "      <td>0.022288</td>\n",
       "      <td>0.018887</td>\n",
       "      <td>0.009094</td>\n",
       "      <td>0.020183</td>\n",
       "      <td>OUT027</td>\n",
       "      <td>0.013182</td>\n",
       "      <td>0.012962</td>\n",
       "      <td>0.019256</td>\n",
       "      <td>0.0204</td>\n",
       "    </tr>\n",
       "  </tbody>\n",
       "</table>\n",
       "</div>"
      ],
      "text/plain": [
       "  Item_Identifier  Item_Weight  Item_Fat_Content  Item_Visibility  Item_Type  \\\n",
       "0           FDW58     0.020566          0.000000         0.001205   0.002273   \n",
       "1           FDW14     0.008226          0.022288         0.006120   0.009094   \n",
       "2           NCN55     0.014470          0.000000         0.015858   0.027281   \n",
       "3           FDQ58     0.007250          0.000000         0.002451   0.002273   \n",
       "4           FDY38     0.012583          0.022288         0.018887   0.009094   \n",
       "\n",
       "   Item_MRP Outlet_Identifier  Outlet_Establishment_Year  Outlet_Size  \\\n",
       "0  0.009294            OUT049                   0.013275     0.012962   \n",
       "1  0.007524            OUT017                   0.013328     0.012962   \n",
       "2  0.020831            OUT010                   0.013268     0.012962   \n",
       "3  0.013359            OUT017                   0.013328     0.012962   \n",
       "4  0.020183            OUT027                   0.013182     0.012962   \n",
       "\n",
       "   Outlet_Location_Type  Outlet_Type  \n",
       "0              0.000000       0.0000  \n",
       "1              0.009628       0.0000  \n",
       "2              0.019256       0.0306  \n",
       "3              0.009628       0.0000  \n",
       "4              0.019256       0.0204  "
      ]
     },
     "execution_count": 290,
     "metadata": {},
     "output_type": "execute_result"
    }
   ],
   "source": [
    "data_test['Item_Visibility'] = norm_IV_test[0]\n",
    "data_test['Item_MRP'] = norm_IMRP_test[0]\n",
    "data_test['Item_Weight'] = norm_IW_test[0]\n",
    "data_test['Outlet_Establishment_Year'] = norm_year_test[0]\n",
    "data_test['Item_Fat_Content'] = norm_fat_test[0]\n",
    "data_test['Item_Type'] = norm_IT_test[0]\n",
    "data_test['Outlet_Size'] = norm_size_test[0]\n",
    "data_test['Outlet_Location_Type'] = norm_OLT_test[0]\n",
    "data_test['Outlet_Type'] = norm_OT_test[0]\n",
    "data_test.head()"
   ]
  },
  {
   "cell_type": "markdown",
   "metadata": {},
   "source": [
    "<h3>Model</h3>"
   ]
  },
  {
   "cell_type": "code",
   "execution_count": 352,
   "metadata": {},
   "outputs": [],
   "source": [
    "features = ['Item_Weight', 'Item_Fat_Content', 'Item_Visibility', 'Item_Type', 'Item_MRP', \n",
    "            'Outlet_Establishment_Year', 'Outlet_Size', 'Outlet_Location_Type', \n",
    "           'Outlet_Type']"
   ]
  },
  {
   "cell_type": "code",
   "execution_count": 353,
   "metadata": {},
   "outputs": [
    {
     "data": {
      "text/plain": [
       "((8523, 9), (8523,))"
      ]
     },
     "execution_count": 353,
     "metadata": {},
     "output_type": "execute_result"
    }
   ],
   "source": [
    "x = data[features]\n",
    "y = data['Item_Outlet_Sales']\n",
    "x.shape, y.shape"
   ]
  },
  {
   "cell_type": "code",
   "execution_count": 354,
   "metadata": {},
   "outputs": [
    {
     "data": {
      "text/plain": [
       "(5681, 9)"
      ]
     },
     "execution_count": 354,
     "metadata": {},
     "output_type": "execute_result"
    }
   ],
   "source": [
    "x_test = data_test[features]\n",
    "x_test.shape"
   ]
  },
  {
   "cell_type": "code",
   "execution_count": 414,
   "metadata": {},
   "outputs": [],
   "source": [
    "x_train,x_val,y_train,y_val = train_test_split(x,y,random_state=10,test_size=0.2)"
   ]
  },
  {
   "cell_type": "code",
   "execution_count": 415,
   "metadata": {},
   "outputs": [
    {
     "data": {
      "text/html": [
       "<div>\n",
       "<style scoped>\n",
       "    .dataframe tbody tr th:only-of-type {\n",
       "        vertical-align: middle;\n",
       "    }\n",
       "\n",
       "    .dataframe tbody tr th {\n",
       "        vertical-align: top;\n",
       "    }\n",
       "\n",
       "    .dataframe thead th {\n",
       "        text-align: right;\n",
       "    }\n",
       "</style>\n",
       "<table border=\"1\" class=\"dataframe\">\n",
       "  <thead>\n",
       "    <tr style=\"text-align: right;\">\n",
       "      <th></th>\n",
       "      <th>Item_Weight</th>\n",
       "      <th>Item_Fat_Content</th>\n",
       "      <th>Item_Visibility</th>\n",
       "      <th>Item_Type</th>\n",
       "      <th>Item_MRP</th>\n",
       "      <th>Outlet_Establishment_Year</th>\n",
       "      <th>Outlet_Size</th>\n",
       "      <th>Outlet_Location_Type</th>\n",
       "      <th>Outlet_Type</th>\n",
       "    </tr>\n",
       "  </thead>\n",
       "  <tbody>\n",
       "    <tr>\n",
       "      <th>5470</th>\n",
       "      <td>0.012805</td>\n",
       "      <td>0.018239</td>\n",
       "      <td>0.008437</td>\n",
       "      <td>0.007457</td>\n",
       "      <td>0.005517</td>\n",
       "      <td>0.010892</td>\n",
       "      <td>0.010582</td>\n",
       "      <td>0.015721</td>\n",
       "      <td>0.008329</td>\n",
       "    </tr>\n",
       "    <tr>\n",
       "      <th>8431</th>\n",
       "      <td>0.015766</td>\n",
       "      <td>0.000000</td>\n",
       "      <td>0.006887</td>\n",
       "      <td>0.000000</td>\n",
       "      <td>0.003991</td>\n",
       "      <td>0.010854</td>\n",
       "      <td>0.010582</td>\n",
       "      <td>0.007860</td>\n",
       "      <td>0.000000</td>\n",
       "    </tr>\n",
       "    <tr>\n",
       "      <th>3557</th>\n",
       "      <td>0.006127</td>\n",
       "      <td>0.000000</td>\n",
       "      <td>0.004134</td>\n",
       "      <td>0.009322</td>\n",
       "      <td>0.008240</td>\n",
       "      <td>0.010854</td>\n",
       "      <td>0.010582</td>\n",
       "      <td>0.007860</td>\n",
       "      <td>0.000000</td>\n",
       "    </tr>\n",
       "    <tr>\n",
       "      <th>7918</th>\n",
       "      <td>0.012165</td>\n",
       "      <td>0.000000</td>\n",
       "      <td>0.004346</td>\n",
       "      <td>0.003729</td>\n",
       "      <td>0.007660</td>\n",
       "      <td>0.010838</td>\n",
       "      <td>0.010582</td>\n",
       "      <td>0.000000</td>\n",
       "      <td>0.000000</td>\n",
       "    </tr>\n",
       "    <tr>\n",
       "      <th>4573</th>\n",
       "      <td>0.009844</td>\n",
       "      <td>0.018239</td>\n",
       "      <td>0.007504</td>\n",
       "      <td>0.001864</td>\n",
       "      <td>0.004249</td>\n",
       "      <td>0.010865</td>\n",
       "      <td>0.000000</td>\n",
       "      <td>0.007860</td>\n",
       "      <td>0.000000</td>\n",
       "    </tr>\n",
       "  </tbody>\n",
       "</table>\n",
       "</div>"
      ],
      "text/plain": [
       "      Item_Weight  Item_Fat_Content  Item_Visibility  Item_Type  Item_MRP  \\\n",
       "5470     0.012805          0.018239         0.008437   0.007457  0.005517   \n",
       "8431     0.015766          0.000000         0.006887   0.000000  0.003991   \n",
       "3557     0.006127          0.000000         0.004134   0.009322  0.008240   \n",
       "7918     0.012165          0.000000         0.004346   0.003729  0.007660   \n",
       "4573     0.009844          0.018239         0.007504   0.001864  0.004249   \n",
       "\n",
       "      Outlet_Establishment_Year  Outlet_Size  Outlet_Location_Type  \\\n",
       "5470                   0.010892     0.010582              0.015721   \n",
       "8431                   0.010854     0.010582              0.007860   \n",
       "3557                   0.010854     0.010582              0.007860   \n",
       "7918                   0.010838     0.010582              0.000000   \n",
       "4573                   0.010865     0.000000              0.007860   \n",
       "\n",
       "      Outlet_Type  \n",
       "5470     0.008329  \n",
       "8431     0.000000  \n",
       "3557     0.000000  \n",
       "7918     0.000000  \n",
       "4573     0.000000  "
      ]
     },
     "execution_count": 415,
     "metadata": {},
     "output_type": "execute_result"
    }
   ],
   "source": [
    "x_train.head()"
   ]
  },
  {
   "cell_type": "code",
   "execution_count": 416,
   "metadata": {},
   "outputs": [],
   "source": [
    "import keras\n",
    "import tensorflow as tf\n",
    "from keras.models import Sequential\n",
    "from keras.layers import InputLayer, Dense "
   ]
  },
  {
   "cell_type": "code",
   "execution_count": 417,
   "metadata": {},
   "outputs": [
    {
     "data": {
      "text/plain": [
       "9"
      ]
     },
     "execution_count": 417,
     "metadata": {},
     "output_type": "execute_result"
    }
   ],
   "source": [
    "input_neurons = x.shape[1]\n",
    "output_neurons = 1\n",
    "input_neurons"
   ]
  },
  {
   "cell_type": "code",
   "execution_count": 418,
   "metadata": {},
   "outputs": [],
   "source": [
    "hidden_layers = 2\n",
    "layer_1 = 8\n",
    "layer_2 = 4"
   ]
  },
  {
   "cell_type": "code",
   "execution_count": 431,
   "metadata": {},
   "outputs": [
    {
     "name": "stdout",
     "output_type": "stream",
     "text": [
      "Model: \"sequential_26\"\n",
      "_________________________________________________________________\n",
      "Layer (type)                 Output Shape              Param #   \n",
      "=================================================================\n",
      "dense_82 (Dense)             (None, 8)                 80        \n",
      "_________________________________________________________________\n",
      "dense_83 (Dense)             (None, 4)                 36        \n",
      "_________________________________________________________________\n",
      "dense_84 (Dense)             (None, 1)                 5         \n",
      "=================================================================\n",
      "Total params: 121\n",
      "Trainable params: 121\n",
      "Non-trainable params: 0\n",
      "_________________________________________________________________\n"
     ]
    }
   ],
   "source": [
    "model = Sequential()\n",
    "model.add(InputLayer(input_shape=(input_neurons,)))\n",
    "model.add(Dense(units=layer_1, activation='relu'))\n",
    "model.add(Dense(units=layer_2, activation='relu'))\n",
    "model.add(Dense(units=output_neurons, activation='linear'))\n",
    "model.summary()"
   ]
  },
  {
   "cell_type": "code",
   "execution_count": 432,
   "metadata": {},
   "outputs": [],
   "source": [
    "model.compile(optimizer=\"Adam\", loss=\"mae\",metrics=['mse'])\n",
    "#model.compile(loss='mean_squared_error', optimizer='adam')"
   ]
  },
  {
   "cell_type": "code",
   "execution_count": 451,
   "metadata": {
    "scrolled": true
   },
   "outputs": [
    {
     "name": "stdout",
     "output_type": "stream",
     "text": [
      "Epoch 1/30\n",
      "214/214 [==============================] - 0s 1ms/step - loss: 1278.4689 - mse: 2931541.7500 - val_loss: 1279.3004 - val_mse: 3015809.7500\n",
      "Epoch 2/30\n",
      "214/214 [==============================] - 0s 1ms/step - loss: 1278.2306 - mse: 2924153.5000 - val_loss: 1279.0415 - val_mse: 3015797.0000\n",
      "Epoch 3/30\n",
      "214/214 [==============================] - 0s 997us/step - loss: 1277.9519 - mse: 2931153.5000 - val_loss: 1278.8457 - val_mse: 3019799.5000\n",
      "Epoch 4/30\n",
      "214/214 [==============================] - 0s 1ms/step - loss: 1277.6908 - mse: 2927785.0000 - val_loss: 1278.5981 - val_mse: 3020243.2500\n",
      "Epoch 5/30\n",
      "214/214 [==============================] - 0s 954us/step - loss: 1277.4100 - mse: 2926932.0000 - val_loss: 1278.3359 - val_mse: 3019834.5000\n",
      "Epoch 6/30\n",
      "214/214 [==============================] - 0s 984us/step - loss: 1277.1239 - mse: 2930633.2500 - val_loss: 1278.0402 - val_mse: 3017084.5000\n",
      "Epoch 7/30\n",
      "214/214 [==============================] - 0s 875us/step - loss: 1276.8539 - mse: 2929194.5000 - val_loss: 1277.7056 - val_mse: 3012194.2500\n",
      "Epoch 8/30\n",
      "214/214 [==============================] - 0s 988us/step - loss: 1276.5575 - mse: 2923972.7500 - val_loss: 1277.4287 - val_mse: 3011219.7500\n",
      "Epoch 9/30\n",
      "214/214 [==============================] - 0s 982us/step - loss: 1276.2847 - mse: 2923459.2500 - val_loss: 1277.1503 - val_mse: 3010444.5000\n",
      "Epoch 10/30\n",
      "214/214 [==============================] - 0s 1ms/step - loss: 1275.9932 - mse: 2922924.7500 - val_loss: 1276.8955 - val_mse: 3011383.0000\n",
      "Epoch 11/30\n",
      "214/214 [==============================] - 0s 1ms/step - loss: 1275.6934 - mse: 2922642.0000 - val_loss: 1276.5962 - val_mse: 3009449.2500\n",
      "Epoch 12/30\n",
      "214/214 [==============================] - 0s 1ms/step - loss: 1275.4270 - mse: 2916540.0000 - val_loss: 1276.2651 - val_mse: 3005157.5000\n",
      "Epoch 13/30\n",
      "214/214 [==============================] - 0s 1ms/step - loss: 1275.1354 - mse: 2915028.7500 - val_loss: 1275.9716 - val_mse: 3003486.0000\n",
      "Epoch 14/30\n",
      "214/214 [==============================] - 0s 1ms/step - loss: 1274.8289 - mse: 2916093.0000 - val_loss: 1275.7019 - val_mse: 3004078.2500\n",
      "Epoch 15/30\n",
      "214/214 [==============================] - 0s 1ms/step - loss: 1274.5260 - mse: 2913995.7500 - val_loss: 1275.4147 - val_mse: 3003558.7500\n",
      "Epoch 16/30\n",
      "214/214 [==============================] - 0s 1ms/step - loss: 1274.2350 - mse: 2916325.7500 - val_loss: 1275.1101 - val_mse: 3001987.0000\n",
      "Epoch 17/30\n",
      "214/214 [==============================] - 0s 1ms/step - loss: 1273.9437 - mse: 2919376.7500 - val_loss: 1274.8416 - val_mse: 3002808.7500\n",
      "Epoch 18/30\n",
      "214/214 [==============================] - 0s 875us/step - loss: 1273.6396 - mse: 2913982.5000 - val_loss: 1274.4911 - val_mse: 2997850.5000\n",
      "Epoch 19/30\n",
      "214/214 [==============================] - 0s 995us/step - loss: 1273.3649 - mse: 2908742.2500 - val_loss: 1274.2203 - val_mse: 2999164.2500\n",
      "Epoch 20/30\n",
      "214/214 [==============================] - 0s 897us/step - loss: 1273.0154 - mse: 2912167.5000 - val_loss: 1273.8868 - val_mse: 2995389.2500\n",
      "Epoch 21/30\n",
      "214/214 [==============================] - 0s 895us/step - loss: 1272.7140 - mse: 2909360.0000 - val_loss: 1273.5693 - val_mse: 2993083.0000\n",
      "Epoch 22/30\n",
      "214/214 [==============================] - 0s 892us/step - loss: 1272.3944 - mse: 2907949.5000 - val_loss: 1273.2826 - val_mse: 2994177.2500\n",
      "Epoch 23/30\n",
      "214/214 [==============================] - 0s 892us/step - loss: 1272.0897 - mse: 2905895.7500 - val_loss: 1272.9766 - val_mse: 2993360.5000\n",
      "Epoch 24/30\n",
      "214/214 [==============================] - 0s 927us/step - loss: 1271.7932 - mse: 2909608.7500 - val_loss: 1272.7017 - val_mse: 2994984.5000\n",
      "Epoch 25/30\n",
      "214/214 [==============================] - 0s 895us/step - loss: 1271.4639 - mse: 2907214.5000 - val_loss: 1272.3752 - val_mse: 2993095.2500\n",
      "Epoch 26/30\n",
      "214/214 [==============================] - 0s 996us/step - loss: 1271.1456 - mse: 2908395.0000 - val_loss: 1272.0657 - val_mse: 2992680.2500\n",
      "Epoch 27/30\n",
      "214/214 [==============================] - 0s 923us/step - loss: 1270.8130 - mse: 2906104.0000 - val_loss: 1271.7616 - val_mse: 2992537.2500\n",
      "Epoch 28/30\n",
      "214/214 [==============================] - 0s 879us/step - loss: 1270.5354 - mse: 2908653.2500 - val_loss: 1271.4514 - val_mse: 2992161.7500\n",
      "Epoch 29/30\n",
      "214/214 [==============================] - 0s 950us/step - loss: 1270.1790 - mse: 2905096.0000 - val_loss: 1271.0797 - val_mse: 2987616.7500\n",
      "Epoch 30/30\n",
      "214/214 [==============================] - 0s 927us/step - loss: 1269.8707 - mse: 2900020.0000 - val_loss: 1270.7590 - val_mse: 2987150.7500\n"
     ]
    }
   ],
   "source": [
    "model_train = model.fit(x_train, y_train, validation_data=(x_val, y_val), epochs=30)"
   ]
  },
  {
   "cell_type": "code",
   "execution_count": 452,
   "metadata": {},
   "outputs": [],
   "source": [
    "prediction = model.predict(x_val)"
   ]
  },
  {
   "cell_type": "code",
   "execution_count": 453,
   "metadata": {},
   "outputs": [
    {
     "data": {
      "text/plain": [
       "1728.3375901627387"
      ]
     },
     "execution_count": 453,
     "metadata": {},
     "output_type": "execute_result"
    }
   ],
   "source": [
    "from sklearn.metrics import mean_squared_error\n",
    "mean_squared_error(y_val, prediction, squared=False)"
   ]
  },
  {
   "cell_type": "code",
   "execution_count": 454,
   "metadata": {},
   "outputs": [],
   "source": [
    "test_predictions = model.predict(x_test)"
   ]
  },
  {
   "cell_type": "code",
   "execution_count": 455,
   "metadata": {},
   "outputs": [
    {
     "data": {
      "text/plain": [
       "array([[1836.4052],\n",
       "       [1872.0831],\n",
       "       [1767.3687],\n",
       "       ...,\n",
       "       [1846.9103],\n",
       "       [2009.4125],\n",
       "       [1843.2767]], dtype=float32)"
      ]
     },
     "execution_count": 455,
     "metadata": {},
     "output_type": "execute_result"
    }
   ],
   "source": [
    "test_predictions"
   ]
  },
  {
   "cell_type": "code",
   "execution_count": 456,
   "metadata": {},
   "outputs": [
    {
     "data": {
      "text/html": [
       "<div>\n",
       "<style scoped>\n",
       "    .dataframe tbody tr th:only-of-type {\n",
       "        vertical-align: middle;\n",
       "    }\n",
       "\n",
       "    .dataframe tbody tr th {\n",
       "        vertical-align: top;\n",
       "    }\n",
       "\n",
       "    .dataframe thead th {\n",
       "        text-align: right;\n",
       "    }\n",
       "</style>\n",
       "<table border=\"1\" class=\"dataframe\">\n",
       "  <thead>\n",
       "    <tr style=\"text-align: right;\">\n",
       "      <th></th>\n",
       "      <th>Item_Identifier</th>\n",
       "      <th>Outlet_Identifier</th>\n",
       "      <th>Item_Outlet_Sales</th>\n",
       "    </tr>\n",
       "  </thead>\n",
       "  <tbody>\n",
       "    <tr>\n",
       "      <th>0</th>\n",
       "      <td>FDW58</td>\n",
       "      <td>OUT049</td>\n",
       "      <td>1836.405151</td>\n",
       "    </tr>\n",
       "    <tr>\n",
       "      <th>1</th>\n",
       "      <td>FDW14</td>\n",
       "      <td>OUT017</td>\n",
       "      <td>1872.083130</td>\n",
       "    </tr>\n",
       "    <tr>\n",
       "      <th>2</th>\n",
       "      <td>NCN55</td>\n",
       "      <td>OUT010</td>\n",
       "      <td>1767.368652</td>\n",
       "    </tr>\n",
       "    <tr>\n",
       "      <th>3</th>\n",
       "      <td>FDQ58</td>\n",
       "      <td>OUT017</td>\n",
       "      <td>1885.280518</td>\n",
       "    </tr>\n",
       "    <tr>\n",
       "      <th>4</th>\n",
       "      <td>FDY38</td>\n",
       "      <td>OUT027</td>\n",
       "      <td>1857.070190</td>\n",
       "    </tr>\n",
       "  </tbody>\n",
       "</table>\n",
       "</div>"
      ],
      "text/plain": [
       "  Item_Identifier Outlet_Identifier  Item_Outlet_Sales\n",
       "0           FDW58            OUT049        1836.405151\n",
       "1           FDW14            OUT017        1872.083130\n",
       "2           NCN55            OUT010        1767.368652\n",
       "3           FDQ58            OUT017        1885.280518\n",
       "4           FDY38            OUT027        1857.070190"
      ]
     },
     "execution_count": 456,
     "metadata": {},
     "output_type": "execute_result"
    }
   ],
   "source": [
    "submission = pd.DataFrame(data_test[['Item_Identifier', 'Outlet_Identifier']])\n",
    "submission['Item_Outlet_Sales'] = test_predictions\n",
    "submission.head()"
   ]
  },
  {
   "cell_type": "code",
   "execution_count": 457,
   "metadata": {},
   "outputs": [],
   "source": [
    "submission.to_csv('submission.csv', index=False)"
   ]
  },
  {
   "cell_type": "code",
   "execution_count": null,
   "metadata": {},
   "outputs": [],
   "source": []
  }
 ],
 "metadata": {
  "kernelspec": {
   "display_name": "Python 3",
   "language": "python",
   "name": "python3"
  },
  "language_info": {
   "codemirror_mode": {
    "name": "ipython",
    "version": 3
   },
   "file_extension": ".py",
   "mimetype": "text/x-python",
   "name": "python",
   "nbconvert_exporter": "python",
   "pygments_lexer": "ipython3",
   "version": "3.8.5"
  }
 },
 "nbformat": 4,
 "nbformat_minor": 4
}
